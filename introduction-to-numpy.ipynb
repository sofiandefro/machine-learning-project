{
 "cells": [
  {
   "cell_type": "code",
   "execution_count": 1,
   "id": "c33de859-35e2-462b-be8f-27c234175de0",
   "metadata": {},
   "outputs": [],
   "source": [
    "import numpy as np"
   ]
  },
  {
   "cell_type": "markdown",
   "id": "2477ce03-c3ae-4a35-8a17-47284473cca4",
   "metadata": {},
   "source": [
    "## DataTypes & Attributes"
   ]
  },
  {
   "cell_type": "code",
   "execution_count": 2,
   "id": "09c4898e-5d66-45ed-9704-6a2dbf5cc1f2",
   "metadata": {},
   "outputs": [
    {
     "data": {
      "text/plain": [
       "array([1, 2, 3])"
      ]
     },
     "execution_count": 2,
     "metadata": {},
     "output_type": "execute_result"
    }
   ],
   "source": [
    "a1 = np.array([1, 2, 3])\n",
    "a1"
   ]
  },
  {
   "cell_type": "code",
   "execution_count": 3,
   "id": "ae261a2d-7b7c-4af9-91d1-962c9ed26fcf",
   "metadata": {},
   "outputs": [
    {
     "data": {
      "text/plain": [
       "numpy.ndarray"
      ]
     },
     "execution_count": 3,
     "metadata": {},
     "output_type": "execute_result"
    }
   ],
   "source": [
    "type(a1)"
   ]
  },
  {
   "cell_type": "code",
   "execution_count": 4,
   "id": "91b87161-21e2-4d65-83cc-ede32189fd24",
   "metadata": {},
   "outputs": [
    {
     "data": {
      "text/plain": [
       "array([[1, 2, 3],\n",
       "       [4, 5, 6]])"
      ]
     },
     "execution_count": 4,
     "metadata": {},
     "output_type": "execute_result"
    }
   ],
   "source": [
    "a2 = np.array([[1, 2, 3],\n",
    "               [4, 5, 6]])\n",
    "a2"
   ]
  },
  {
   "cell_type": "code",
   "execution_count": 5,
   "id": "2955ecea-a286-4152-ac09-2008eee30efe",
   "metadata": {},
   "outputs": [
    {
     "data": {
      "text/plain": [
       "array([[1, 2, 3],\n",
       "       [4, 5, 6],\n",
       "       [7, 8, 9]])"
      ]
     },
     "execution_count": 5,
     "metadata": {},
     "output_type": "execute_result"
    }
   ],
   "source": [
    "a3 = np.array([[1, 2, 3],\n",
    "               [4, 5, 6],\n",
    "              [7, 8, 9]])\n",
    "a3"
   ]
  },
  {
   "cell_type": "code",
   "execution_count": 6,
   "id": "759fc919-6bce-4a89-8c89-a87abac5c80b",
   "metadata": {},
   "outputs": [
    {
     "data": {
      "text/plain": [
       "array([[[ 1,  2,  3],\n",
       "        [ 4,  5,  6]],\n",
       "\n",
       "       [[ 7,  8,  9],\n",
       "        [10, 11, 12]],\n",
       "\n",
       "       [[13, 14, 15],\n",
       "        [16, 17, 18]]])"
      ]
     },
     "execution_count": 6,
     "metadata": {},
     "output_type": "execute_result"
    }
   ],
   "source": [
    "a3 = np.array([[[1, 2, 3],\n",
    "                [4, 5, 6]],\n",
    "               [[7, 8, 9],\n",
    "                [10, 11, 12]],\n",
    "               [[13, 14, 15],\n",
    "                [16, 17, 18]]])\n",
    "a3"
   ]
  },
  {
   "cell_type": "code",
   "execution_count": 7,
   "id": "e1ff675c-2303-4436-a8be-458b20b7eb79",
   "metadata": {},
   "outputs": [
    {
     "data": {
      "text/plain": [
       "array([1, 2, 3])"
      ]
     },
     "execution_count": 7,
     "metadata": {},
     "output_type": "execute_result"
    }
   ],
   "source": [
    "a1"
   ]
  },
  {
   "cell_type": "code",
   "execution_count": 8,
   "id": "0aa9a0e3-6529-4459-9e87-13c073363026",
   "metadata": {},
   "outputs": [
    {
     "data": {
      "text/plain": [
       "(3,)"
      ]
     },
     "execution_count": 8,
     "metadata": {},
     "output_type": "execute_result"
    }
   ],
   "source": [
    "a1.shape"
   ]
  },
  {
   "cell_type": "code",
   "execution_count": 9,
   "id": "3d68f4a6-6436-4a59-8fc8-38afec30f743",
   "metadata": {},
   "outputs": [
    {
     "data": {
      "text/plain": [
       "(2, 3)"
      ]
     },
     "execution_count": 9,
     "metadata": {},
     "output_type": "execute_result"
    }
   ],
   "source": [
    "a2.shape"
   ]
  },
  {
   "cell_type": "code",
   "execution_count": 10,
   "id": "37a6273f-954e-4107-88b8-bc3133c3f0fe",
   "metadata": {},
   "outputs": [
    {
     "data": {
      "text/plain": [
       "(3, 2, 3)"
      ]
     },
     "execution_count": 10,
     "metadata": {},
     "output_type": "execute_result"
    }
   ],
   "source": [
    "a3.shape"
   ]
  },
  {
   "cell_type": "code",
   "execution_count": 11,
   "id": "ed8b460a-355b-47af-9332-9b9108bbddd4",
   "metadata": {},
   "outputs": [
    {
     "data": {
      "text/plain": [
       "(1, 2, 3)"
      ]
     },
     "execution_count": 11,
     "metadata": {},
     "output_type": "execute_result"
    }
   ],
   "source": [
    "a1.ndim, a2.ndim, a3.ndim"
   ]
  },
  {
   "cell_type": "code",
   "execution_count": 12,
   "id": "e872955d-5c1e-478b-8b87-8e95217a4d23",
   "metadata": {},
   "outputs": [
    {
     "data": {
      "text/plain": [
       "dtype('int32')"
      ]
     },
     "execution_count": 12,
     "metadata": {},
     "output_type": "execute_result"
    }
   ],
   "source": [
    "a1.dtype"
   ]
  },
  {
   "cell_type": "code",
   "execution_count": 13,
   "id": "030b42af-45c3-423d-b8eb-a6d8bf5baced",
   "metadata": {},
   "outputs": [
    {
     "data": {
      "text/plain": [
       "3"
      ]
     },
     "execution_count": 13,
     "metadata": {},
     "output_type": "execute_result"
    }
   ],
   "source": [
    "a1.size"
   ]
  },
  {
   "cell_type": "code",
   "execution_count": 14,
   "id": "7151193b-13fe-4bea-aeef-e2a6e25b936a",
   "metadata": {},
   "outputs": [
    {
     "data": {
      "text/plain": [
       "6"
      ]
     },
     "execution_count": 14,
     "metadata": {},
     "output_type": "execute_result"
    }
   ],
   "source": [
    "a2.size"
   ]
  },
  {
   "cell_type": "code",
   "execution_count": 15,
   "id": "50eedc04-9c4f-43c9-8317-060cba5f8f19",
   "metadata": {},
   "outputs": [
    {
     "data": {
      "text/plain": [
       "numpy.ndarray"
      ]
     },
     "execution_count": 15,
     "metadata": {},
     "output_type": "execute_result"
    }
   ],
   "source": [
    "type(a1)"
   ]
  },
  {
   "cell_type": "markdown",
   "id": "c76e9b9c-419f-4b12-a02e-a6cd01c6a9d5",
   "metadata": {},
   "source": [
    "## Creating numpy arrays"
   ]
  },
  {
   "cell_type": "code",
   "execution_count": 16,
   "id": "1d910c19-ba42-4b92-bbc1-70d8d3a156e4",
   "metadata": {},
   "outputs": [
    {
     "data": {
      "text/plain": [
       "array([1, 2, 3])"
      ]
     },
     "execution_count": 16,
     "metadata": {},
     "output_type": "execute_result"
    }
   ],
   "source": [
    "sample_array = np.array([1, 2, 3])\n",
    "sample_array"
   ]
  },
  {
   "cell_type": "code",
   "execution_count": 18,
   "id": "eb73d3f2-1cb6-492f-ac56-e19bc61188c4",
   "metadata": {},
   "outputs": [
    {
     "data": {
      "text/plain": [
       "dtype('int32')"
      ]
     },
     "execution_count": 18,
     "metadata": {},
     "output_type": "execute_result"
    }
   ],
   "source": [
    "sample_array.dtype"
   ]
  },
  {
   "cell_type": "code",
   "execution_count": 20,
   "id": "a9fdad06-7be0-42aa-a53f-9c2b85724ab3",
   "metadata": {},
   "outputs": [
    {
     "data": {
      "text/plain": [
       "array([1., 1., 1.])"
      ]
     },
     "execution_count": 20,
     "metadata": {},
     "output_type": "execute_result"
    }
   ],
   "source": [
    "ones = np.ones()\n",
    "ones"
   ]
  },
  {
   "cell_type": "code",
   "execution_count": 21,
   "id": "0696992e-1183-46ad-afd8-fb5db2f5ae1f",
   "metadata": {},
   "outputs": [
    {
     "data": {
      "text/plain": [
       "dtype('float64')"
      ]
     },
     "execution_count": 21,
     "metadata": {},
     "output_type": "execute_result"
    }
   ],
   "source": [
    "ones.dtype"
   ]
  },
  {
   "cell_type": "code",
   "execution_count": 27,
   "id": "4868f3b2-214e-4de0-8530-e3d8decbf29e",
   "metadata": {},
   "outputs": [
    {
     "data": {
      "text/plain": [
       "array([1, 1, 1])"
      ]
     },
     "execution_count": 27,
     "metadata": {},
     "output_type": "execute_result"
    }
   ],
   "source": [
    "ones = np.ones(3, dtype=int)\n",
    "ones"
   ]
  },
  {
   "cell_type": "code",
   "execution_count": 41,
   "id": "83f29265-8db5-40c0-a4bc-80b2fe270267",
   "metadata": {},
   "outputs": [
    {
     "data": {
      "text/plain": [
       "numpy.ndarray"
      ]
     },
     "execution_count": 41,
     "metadata": {},
     "output_type": "execute_result"
    }
   ],
   "source": [
    "type(ones)"
   ]
  },
  {
   "cell_type": "code",
   "execution_count": 44,
   "id": "5a6f31bf-fda5-4a6a-b6ed-59d1179fbe0c",
   "metadata": {},
   "outputs": [
    {
     "data": {
      "text/plain": [
       "array([[0, 0, 0],\n",
       "       [0, 0, 0]])"
      ]
     },
     "execution_count": 44,
     "metadata": {},
     "output_type": "execute_result"
    }
   ],
   "source": [
    "zeros = np.zeros((2,3), dtype=int)\n",
    "zeros"
   ]
  },
  {
   "cell_type": "code",
   "execution_count": 46,
   "id": "6fa640cb-e1db-4258-a07f-d831957a5f55",
   "metadata": {},
   "outputs": [
    {
     "data": {
      "text/plain": [
       "array([0, 2, 4, 6, 8])"
      ]
     },
     "execution_count": 46,
     "metadata": {},
     "output_type": "execute_result"
    }
   ],
   "source": [
    "range_array = np.arange(0,10,2)\n",
    "range_array\n"
   ]
  },
  {
   "cell_type": "code",
   "execution_count": 51,
   "id": "995dd032-110c-4ca0-bfc1-18dde0648c81",
   "metadata": {},
   "outputs": [
    {
     "data": {
      "text/plain": [
       "array([[6, 6, 1, 5, 1],\n",
       "       [8, 1, 7, 5, 4],\n",
       "       [4, 4, 2, 2, 2]])"
      ]
     },
     "execution_count": 51,
     "metadata": {},
     "output_type": "execute_result"
    }
   ],
   "source": [
    "random_array = np.random.randint(0, 10, size=(3,5))\n",
    "random_array"
   ]
  },
  {
   "cell_type": "code",
   "execution_count": 52,
   "id": "857c61a4-0790-4146-bcdc-5184a134f7df",
   "metadata": {},
   "outputs": [
    {
     "data": {
      "text/plain": [
       "15"
      ]
     },
     "execution_count": 52,
     "metadata": {},
     "output_type": "execute_result"
    }
   ],
   "source": [
    "random_array.size"
   ]
  },
  {
   "cell_type": "code",
   "execution_count": 53,
   "id": "71297002-4943-465f-9352-b6c7838fbf68",
   "metadata": {},
   "outputs": [
    {
     "data": {
      "text/plain": [
       "(3, 5)"
      ]
     },
     "execution_count": 53,
     "metadata": {},
     "output_type": "execute_result"
    }
   ],
   "source": [
    "random_array.shape"
   ]
  },
  {
   "cell_type": "code",
   "execution_count": 54,
   "id": "8507dd37-e1ea-41a3-8809-d72bb7325b76",
   "metadata": {},
   "outputs": [
    {
     "data": {
      "text/plain": [
       "array([[0.25266602, 0.17283429, 0.55104385],\n",
       "       [0.49803326, 0.73751969, 0.59672059],\n",
       "       [0.20414905, 0.59324966, 0.45032338],\n",
       "       [0.16209456, 0.97162556, 0.30923582],\n",
       "       [0.9597152 , 0.38217476, 0.45336804]])"
      ]
     },
     "execution_count": 54,
     "metadata": {},
     "output_type": "execute_result"
    }
   ],
   "source": [
    "random_array_2 = np.random.random((5,3))\n",
    "random_array_2"
   ]
  },
  {
   "cell_type": "code",
   "execution_count": 70,
   "id": "a7bfd8c1-d902-41e3-9cde-adcb67d7fe66",
   "metadata": {},
   "outputs": [
    {
     "data": {
      "text/plain": [
       "array([[0.32094127, 0.55879818, 0.66529827],\n",
       "       [0.83675447, 0.58777315, 0.90158236],\n",
       "       [0.86963991, 0.57389286, 0.42618374],\n",
       "       [0.99963944, 0.17456873, 0.40586729],\n",
       "       [0.31178153, 0.71471297, 0.18716169]])"
      ]
     },
     "execution_count": 70,
     "metadata": {},
     "output_type": "execute_result"
    }
   ],
   "source": [
    "random_array_3 = np.random.rand(5, 3)\n",
    "random_array_3 "
   ]
  },
  {
   "cell_type": "markdown",
   "id": "a664d833-9ed2-4984-800b-527569b62449",
   "metadata": {},
   "source": [
    "### pseudo-random numbers (np.random.seed(seed=x))\n"
   ]
  },
  {
   "cell_type": "code",
   "execution_count": 92,
   "id": "488446a1-93cb-4c9d-9cb0-01293bcbc96a",
   "metadata": {},
   "outputs": [
    {
     "data": {
      "text/plain": [
       "array([[5, 0, 3],\n",
       "       [3, 7, 9],\n",
       "       [3, 5, 2],\n",
       "       [4, 7, 6],\n",
       "       [8, 8, 1]])"
      ]
     },
     "execution_count": 92,
     "metadata": {},
     "output_type": "execute_result"
    }
   ],
   "source": [
    "np.random.seed(seed=0)\n",
    "random_array_4 = np.random.randint(10, size=(5,3))\n",
    "random_array_4"
   ]
  },
  {
   "cell_type": "code",
   "execution_count": 74,
   "id": "ee569f71-9ccd-4673-94ff-abf4314b2a00",
   "metadata": {},
   "outputs": [
    {
     "data": {
      "text/plain": [
       "(5, 3)"
      ]
     },
     "execution_count": 74,
     "metadata": {},
     "output_type": "execute_result"
    }
   ],
   "source": [
    "random_array_4.shape"
   ]
  },
  {
   "cell_type": "markdown",
   "id": "5419ba1c-61fc-4ab8-a121-6baa4bd8f9c9",
   "metadata": {},
   "source": [
    "## Viewing arrays and matrices"
   ]
  },
  {
   "cell_type": "code",
   "execution_count": 94,
   "id": "b7850107-a73a-44a0-a701-d7f0697d42a8",
   "metadata": {},
   "outputs": [
    {
     "data": {
      "text/plain": [
       "array([0, 1, 2, 3, 4, 5, 6, 7, 8, 9])"
      ]
     },
     "execution_count": 94,
     "metadata": {},
     "output_type": "execute_result"
    }
   ],
   "source": [
    "np.unique(random_array_4)"
   ]
  },
  {
   "cell_type": "code",
   "execution_count": 98,
   "id": "04f0a4c7-ffbc-47dc-8c17-622a2c7d419b",
   "metadata": {},
   "outputs": [
    {
     "data": {
      "text/plain": [
       "array([[1, 2, 3],\n",
       "       [4, 5, 6]])"
      ]
     },
     "execution_count": 98,
     "metadata": {},
     "output_type": "execute_result"
    }
   ],
   "source": [
    "a3[0]"
   ]
  },
  {
   "cell_type": "code",
   "execution_count": 100,
   "id": "fb5694e4-c344-4c24-a3db-d796296f31e3",
   "metadata": {},
   "outputs": [
    {
     "data": {
      "text/plain": [
       "array([[[[6, 7, 7, 8, 1],\n",
       "         [5, 9, 8, 9, 4],\n",
       "         [3, 0, 3, 5, 0],\n",
       "         [2, 3, 8, 1, 3]],\n",
       "\n",
       "        [[3, 3, 7, 0, 1],\n",
       "         [9, 9, 0, 4, 7],\n",
       "         [3, 2, 7, 2, 0],\n",
       "         [0, 4, 5, 5, 6]],\n",
       "\n",
       "        [[8, 4, 1, 4, 9],\n",
       "         [8, 1, 1, 7, 9],\n",
       "         [9, 3, 6, 7, 2],\n",
       "         [0, 3, 5, 9, 4]]],\n",
       "\n",
       "\n",
       "       [[[4, 6, 4, 4, 3],\n",
       "         [4, 4, 8, 4, 3],\n",
       "         [7, 5, 5, 0, 1],\n",
       "         [5, 9, 3, 0, 5]],\n",
       "\n",
       "        [[0, 1, 2, 4, 2],\n",
       "         [0, 3, 2, 0, 7],\n",
       "         [5, 9, 0, 2, 7],\n",
       "         [2, 9, 2, 3, 3]],\n",
       "\n",
       "        [[2, 3, 4, 1, 2],\n",
       "         [9, 1, 4, 6, 8],\n",
       "         [2, 3, 0, 0, 6],\n",
       "         [0, 6, 3, 3, 8]]]])"
      ]
     },
     "execution_count": 100,
     "metadata": {},
     "output_type": "execute_result"
    }
   ],
   "source": [
    "a4 = np.random.randint(10, size=(2, 3, 4, 5))\n",
    "a4"
   ]
  },
  {
   "cell_type": "code",
   "execution_count": 102,
   "id": "6bc07833-b32d-4670-9304-664b597fd941",
   "metadata": {},
   "outputs": [
    {
     "data": {
      "text/plain": [
       "((2, 3, 4, 5), 4)"
      ]
     },
     "execution_count": 102,
     "metadata": {},
     "output_type": "execute_result"
    }
   ],
   "source": [
    "a4.shape, a4.ndim"
   ]
  },
  {
   "cell_type": "code",
   "execution_count": 105,
   "id": "9ca052b7-2d8e-48cb-8dcd-9b2f4c978474",
   "metadata": {},
   "outputs": [
    {
     "data": {
      "text/plain": [
       "array([[[[6, 7, 7, 8],\n",
       "         [5, 9, 8, 9],\n",
       "         [3, 0, 3, 5],\n",
       "         [2, 3, 8, 1]],\n",
       "\n",
       "        [[3, 3, 7, 0],\n",
       "         [9, 9, 0, 4],\n",
       "         [3, 2, 7, 2],\n",
       "         [0, 4, 5, 5]],\n",
       "\n",
       "        [[8, 4, 1, 4],\n",
       "         [8, 1, 1, 7],\n",
       "         [9, 3, 6, 7],\n",
       "         [0, 3, 5, 9]]],\n",
       "\n",
       "\n",
       "       [[[4, 6, 4, 4],\n",
       "         [4, 4, 8, 4],\n",
       "         [7, 5, 5, 0],\n",
       "         [5, 9, 3, 0]],\n",
       "\n",
       "        [[0, 1, 2, 4],\n",
       "         [0, 3, 2, 0],\n",
       "         [5, 9, 0, 2],\n",
       "         [2, 9, 2, 3]],\n",
       "\n",
       "        [[2, 3, 4, 1],\n",
       "         [9, 1, 4, 6],\n",
       "         [2, 3, 0, 0],\n",
       "         [0, 6, 3, 3]]]])"
      ]
     },
     "execution_count": 105,
     "metadata": {},
     "output_type": "execute_result"
    }
   ],
   "source": [
    "a4[:,:,:,:4]"
   ]
  },
  {
   "cell_type": "code",
   "execution_count": 106,
   "id": "8103d1b2-9d66-4b25-bb89-365176a0e099",
   "metadata": {},
   "outputs": [
    {
     "data": {
      "text/plain": [
       "array([[[[6, 7],\n",
       "         [5, 9],\n",
       "         [3, 0],\n",
       "         [2, 3]],\n",
       "\n",
       "        [[3, 3],\n",
       "         [9, 9],\n",
       "         [3, 2],\n",
       "         [0, 4]],\n",
       "\n",
       "        [[8, 4],\n",
       "         [8, 1],\n",
       "         [9, 3],\n",
       "         [0, 3]]],\n",
       "\n",
       "\n",
       "       [[[4, 6],\n",
       "         [4, 4],\n",
       "         [7, 5],\n",
       "         [5, 9]],\n",
       "\n",
       "        [[0, 1],\n",
       "         [0, 3],\n",
       "         [5, 9],\n",
       "         [2, 9]],\n",
       "\n",
       "        [[2, 3],\n",
       "         [9, 1],\n",
       "         [2, 3],\n",
       "         [0, 6]]]])"
      ]
     },
     "execution_count": 106,
     "metadata": {},
     "output_type": "execute_result"
    }
   ],
   "source": [
    "a4[:,:,:,:2]"
   ]
  },
  {
   "cell_type": "markdown",
   "id": "c161fa22-4989-459a-9b26-46c59e06aba5",
   "metadata": {},
   "source": [
    "## 4. Manipulating & comparing arrays"
   ]
  },
  {
   "cell_type": "code",
   "execution_count": 108,
   "id": "e909b100-9e9c-49c5-af8a-37cbf7ea6dfb",
   "metadata": {},
   "outputs": [
    {
     "data": {
      "text/plain": [
       "array([1, 2, 3])"
      ]
     },
     "execution_count": 108,
     "metadata": {},
     "output_type": "execute_result"
    }
   ],
   "source": [
    "a1\n"
   ]
  },
  {
   "cell_type": "code",
   "execution_count": 109,
   "id": "39e63ae8-cf99-4a0d-9d07-e6dd6ec2f4d5",
   "metadata": {},
   "outputs": [],
   "source": [
    "ones = np.ones(3)"
   ]
  },
  {
   "cell_type": "code",
   "execution_count": 110,
   "id": "c0ecb5b1-0a18-45f4-8235-50b24dfd0caf",
   "metadata": {},
   "outputs": [
    {
     "data": {
      "text/plain": [
       "array([2., 3., 4.])"
      ]
     },
     "execution_count": 110,
     "metadata": {},
     "output_type": "execute_result"
    }
   ],
   "source": [
    "a1 + ones"
   ]
  },
  {
   "cell_type": "code",
   "execution_count": 111,
   "id": "765a668d-5753-4c45-bf46-48928cdd8608",
   "metadata": {},
   "outputs": [
    {
     "data": {
      "text/plain": [
       "100000"
      ]
     },
     "execution_count": 111,
     "metadata": {},
     "output_type": "execute_result"
    }
   ],
   "source": [
    "massive_array = np.random.random(100000)\n",
    "massive_array.size"
   ]
  },
  {
   "cell_type": "code",
   "execution_count": 115,
   "id": "49977c8f-a64b-4b7c-ad4a-d036397913a8",
   "metadata": {},
   "outputs": [
    {
     "data": {
      "text/plain": [
       "array([0.16494046, 0.36980809, 0.14644176, 0.56961841, 0.70373728,\n",
       "       0.28847644, 0.43328806, 0.75610669, 0.39609828, 0.89603839])"
      ]
     },
     "execution_count": 115,
     "metadata": {},
     "output_type": "execute_result"
    }
   ],
   "source": [
    "massive_array[:10]\n"
   ]
  },
  {
   "cell_type": "code",
   "execution_count": 118,
   "id": "673c9b69-175a-4bf4-b0c2-1c8a7e30ad24",
   "metadata": {},
   "outputs": [
    {
     "name": "stdout",
     "output_type": "stream",
     "text": [
      "9.43 ms ± 166 μs per loop (mean ± std. dev. of 7 runs, 100 loops each)\n",
      "31.6 μs ± 1.25 μs per loop (mean ± std. dev. of 7 runs, 10,000 loops each)\n"
     ]
    }
   ],
   "source": [
    "%timeit sum(massive_array) #Python's sum()\n",
    "%timeit np.sum(massive_array) # NumPy's np.sum()\n",
    "\n",
    "#toujours utiliser numpy pour les calculs (beaucoup plus rapide)"
   ]
  },
  {
   "cell_type": "code",
   "execution_count": 123,
   "id": "08251f77-3cff-4ca5-8a3f-e7cb8452b24d",
   "metadata": {},
   "outputs": [
    {
     "data": {
      "text/plain": [
       "(array([[1, 2, 3],\n",
       "        [4, 5, 6]]),\n",
       " 3.5,\n",
       " 6,\n",
       " 1,\n",
       " 1.707825127659933,\n",
       " 2.9166666666666665)"
      ]
     },
     "execution_count": 123,
     "metadata": {},
     "output_type": "execute_result"
    }
   ],
   "source": [
    "a2, np.mean(a2), np.max(a2), np.min(a2), np.std(a2), np.var(a2)\n",
    "# Variance = measure of the average degree to wich each number is different to the mean\n",
    "# High variance = wider range of numbers\n",
    "\n",
    "# Standard deviation = a measure of how spread out a group of numbers is from the mean"
   ]
  },
  {
   "cell_type": "code",
   "execution_count": 124,
   "id": "64f33cb2-f10f-4431-b16b-9938f0be63c3",
   "metadata": {},
   "outputs": [
    {
     "data": {
      "text/plain": [
       "1.707825127659933"
      ]
     },
     "execution_count": 124,
     "metadata": {},
     "output_type": "execute_result"
    }
   ],
   "source": [
    "np.sqrt(np.var(a2))"
   ]
  },
  {
   "cell_type": "code",
   "execution_count": 127,
   "id": "f5136df7-c1dd-45b2-952f-22d00932af6f",
   "metadata": {},
   "outputs": [
    {
     "data": {
      "text/plain": [
       "(2, 3, 1)"
      ]
     },
     "execution_count": 127,
     "metadata": {},
     "output_type": "execute_result"
    }
   ],
   "source": [
    "a2_reshape = a2.reshape(2,3,1)\n",
    "a2_reshape.shape"
   ]
  },
  {
   "cell_type": "code",
   "execution_count": 128,
   "id": "9800c47e-a80a-41f0-8855-963f42ae3b56",
   "metadata": {},
   "outputs": [
    {
     "data": {
      "text/plain": [
       "array([[[1],\n",
       "        [2],\n",
       "        [3]],\n",
       "\n",
       "       [[4],\n",
       "        [5],\n",
       "        [6]]])"
      ]
     },
     "execution_count": 128,
     "metadata": {},
     "output_type": "execute_result"
    }
   ],
   "source": [
    "a2_reshape"
   ]
  },
  {
   "cell_type": "code",
   "execution_count": 131,
   "id": "df803412-26c5-4743-96fd-bbf763e8bac2",
   "metadata": {},
   "outputs": [
    {
     "data": {
      "text/plain": [
       "array([[1, 4],\n",
       "       [2, 5],\n",
       "       [3, 6]])"
      ]
     },
     "execution_count": 131,
     "metadata": {},
     "output_type": "execute_result"
    }
   ],
   "source": [
    "a2.T"
   ]
  },
  {
   "cell_type": "markdown",
   "id": "2f24a897-445b-4e6b-a7e0-802d7c4af245",
   "metadata": {},
   "source": [
    "## Dot product"
   ]
  },
  {
   "cell_type": "code",
   "execution_count": 136,
   "id": "d839f098-58f4-4244-b059-82648f783631",
   "metadata": {},
   "outputs": [],
   "source": [
    "np.random.seed(0)\n",
    "mat1 = np.random.randint(10, size=(5,3))\n",
    "mat2 = np.random.randint(10, size=(5,3))\n"
   ]
  },
  {
   "cell_type": "code",
   "execution_count": 137,
   "id": "1305b321-50a9-4ca7-a0f9-eab485302f41",
   "metadata": {},
   "outputs": [
    {
     "data": {
      "text/plain": [
       "array([[5, 0, 3],\n",
       "       [3, 7, 9],\n",
       "       [3, 5, 2],\n",
       "       [4, 7, 6],\n",
       "       [8, 8, 1]])"
      ]
     },
     "execution_count": 137,
     "metadata": {},
     "output_type": "execute_result"
    }
   ],
   "source": [
    "mat1"
   ]
  },
  {
   "cell_type": "code",
   "execution_count": 138,
   "id": "e4052d20-5db2-4d3c-8631-13e40468984f",
   "metadata": {},
   "outputs": [
    {
     "data": {
      "text/plain": [
       "array([[6, 7, 7],\n",
       "       [8, 1, 5],\n",
       "       [9, 8, 9],\n",
       "       [4, 3, 0],\n",
       "       [3, 5, 0]])"
      ]
     },
     "execution_count": 138,
     "metadata": {},
     "output_type": "execute_result"
    }
   ],
   "source": [
    "mat2"
   ]
  },
  {
   "cell_type": "code",
   "execution_count": 139,
   "id": "192f9cb1-f3d6-44d0-bee7-605502b46939",
   "metadata": {},
   "outputs": [
    {
     "data": {
      "text/plain": [
       "array([[30,  0, 21],\n",
       "       [24,  7, 45],\n",
       "       [27, 40, 18],\n",
       "       [16, 21,  0],\n",
       "       [24, 40,  0]])"
      ]
     },
     "execution_count": 139,
     "metadata": {},
     "output_type": "execute_result"
    }
   ],
   "source": [
    "mat1 * mat2 "
   ]
  },
  {
   "cell_type": "code",
   "execution_count": 141,
   "id": "21fd7071-ee5f-4053-b0d9-2dc121026c51",
   "metadata": {},
   "outputs": [
    {
     "data": {
      "text/plain": [
       "array([[6, 8, 9, 4, 3],\n",
       "       [7, 1, 8, 3, 5],\n",
       "       [7, 5, 9, 0, 0]])"
      ]
     },
     "execution_count": 141,
     "metadata": {},
     "output_type": "execute_result"
    }
   ],
   "source": [
    "mat2_transpose = mat2.T\n",
    "mat2_transpose"
   ]
  },
  {
   "cell_type": "code",
   "execution_count": 149,
   "id": "26a560aa-8834-4e97-a433-37a610649ecb",
   "metadata": {},
   "outputs": [
    {
     "data": {
      "text/plain": [
       "array([[ 51,  55,  72,  20,  15],\n",
       "       [130,  76, 164,  33,  44],\n",
       "       [ 67,  39,  85,  27,  34],\n",
       "       [115,  69, 146,  37,  47],\n",
       "       [111,  77, 145,  56,  64]])"
      ]
     },
     "execution_count": 149,
     "metadata": {},
     "output_type": "execute_result"
    }
   ],
   "source": [
    "mat1.dot(mat2_transpose)"
   ]
  },
  {
   "cell_type": "code",
   "execution_count": 163,
   "id": "e3cd18ce-8094-4668-ab07-5e3b536314d7",
   "metadata": {},
   "outputs": [
    {
     "data": {
      "text/plain": [
       "array([[ 39,  35,  44,  55,   5],\n",
       "       [ 80,  84, 104, 132,  31],\n",
       "       [ 49,  66,  67,  79,  23],\n",
       "       [ 77,  91, 102, 125,  32],\n",
       "       [ 91, 128, 123, 141,  40]])"
      ]
     },
     "execution_count": 163,
     "metadata": {},
     "output_type": "execute_result"
    }
   ],
   "source": [
    "mat1.dot(mat2.reshape(3,5))"
   ]
  },
  {
   "cell_type": "code",
   "execution_count": 164,
   "id": "90f95885-9e3c-45a3-ac70-ac9363918c0c",
   "metadata": {},
   "outputs": [
    {
     "data": {
      "text/plain": [
       "array([[6, 7, 7, 8, 1],\n",
       "       [5, 9, 8, 9, 4],\n",
       "       [3, 0, 3, 5, 0]])"
      ]
     },
     "execution_count": 164,
     "metadata": {},
     "output_type": "execute_result"
    }
   ],
   "source": [
    "mat2.reshape(3,5)"
   ]
  },
  {
   "cell_type": "code",
   "execution_count": 165,
   "id": "c35704c7-bfd9-4fc1-871a-cff233c74bd1",
   "metadata": {},
   "outputs": [
    {
     "data": {
      "text/plain": [
       "array([[6, 8, 9, 4, 3],\n",
       "       [7, 1, 8, 3, 5],\n",
       "       [7, 5, 9, 0, 0]])"
      ]
     },
     "execution_count": 165,
     "metadata": {},
     "output_type": "execute_result"
    }
   ],
   "source": [
    "mat2.T"
   ]
  },
  {
   "cell_type": "code",
   "execution_count": 167,
   "id": "0b664d03-a0dd-49d6-b647-b2fb8eef01d1",
   "metadata": {},
   "outputs": [
    {
     "data": {
      "text/plain": [
       "array([[12, 15,  0],\n",
       "       [ 3,  3,  7],\n",
       "       [ 9, 19, 18],\n",
       "       [ 4,  6, 12],\n",
       "       [ 1,  6,  7]])"
      ]
     },
     "execution_count": 167,
     "metadata": {},
     "output_type": "execute_result"
    }
   ],
   "source": [
    "np.random.seed(0)\n",
    "sales_amount = np.random.randint(20, size=(5,3))\n",
    "sales_amount"
   ]
  },
  {
   "cell_type": "code",
   "execution_count": 170,
   "id": "6d76672d-83c7-4bd7-bddb-9c248e6390bc",
   "metadata": {},
   "outputs": [],
   "source": [
    "import pandas as pd"
   ]
  },
  {
   "cell_type": "code",
   "execution_count": 172,
   "id": "1724917d-cef8-42a1-ac18-3c7619b36e82",
   "metadata": {},
   "outputs": [
    {
     "data": {
      "text/html": [
       "<div>\n",
       "<style scoped>\n",
       "    .dataframe tbody tr th:only-of-type {\n",
       "        vertical-align: middle;\n",
       "    }\n",
       "\n",
       "    .dataframe tbody tr th {\n",
       "        vertical-align: top;\n",
       "    }\n",
       "\n",
       "    .dataframe thead th {\n",
       "        text-align: right;\n",
       "    }\n",
       "</style>\n",
       "<table border=\"1\" class=\"dataframe\">\n",
       "  <thead>\n",
       "    <tr style=\"text-align: right;\">\n",
       "      <th></th>\n",
       "      <th>Almond butter</th>\n",
       "      <th>Peanut butter</th>\n",
       "      <th>Cashew butter</th>\n",
       "    </tr>\n",
       "  </thead>\n",
       "  <tbody>\n",
       "    <tr>\n",
       "      <th>Mon</th>\n",
       "      <td>12</td>\n",
       "      <td>15</td>\n",
       "      <td>0</td>\n",
       "    </tr>\n",
       "    <tr>\n",
       "      <th>Tues</th>\n",
       "      <td>3</td>\n",
       "      <td>3</td>\n",
       "      <td>7</td>\n",
       "    </tr>\n",
       "    <tr>\n",
       "      <th>Wed</th>\n",
       "      <td>9</td>\n",
       "      <td>19</td>\n",
       "      <td>18</td>\n",
       "    </tr>\n",
       "    <tr>\n",
       "      <th>Thurs</th>\n",
       "      <td>4</td>\n",
       "      <td>6</td>\n",
       "      <td>12</td>\n",
       "    </tr>\n",
       "    <tr>\n",
       "      <th>Fri</th>\n",
       "      <td>1</td>\n",
       "      <td>6</td>\n",
       "      <td>7</td>\n",
       "    </tr>\n",
       "  </tbody>\n",
       "</table>\n",
       "</div>"
      ],
      "text/plain": [
       "       Almond butter  Peanut butter  Cashew butter\n",
       "Mon               12             15              0\n",
       "Tues               3              3              7\n",
       "Wed                9             19             18\n",
       "Thurs              4              6             12\n",
       "Fri                1              6              7"
      ]
     },
     "execution_count": 172,
     "metadata": {},
     "output_type": "execute_result"
    }
   ],
   "source": [
    "#Create weekly_sales DataFrame\n",
    "weekly_sales = pd.DataFrame(sales_amount, index=[\"Mon\", \"Tues\", \"Wed\", \"Thurs\", \"Fri\"],\n",
    "                            columns=[\"Almond butter\", \"Peanut butter\", \"Cashew butter\"])\n",
    "weekly_sales"
   ]
  },
  {
   "cell_type": "code",
   "execution_count": 173,
   "id": "14f40f78-befc-44d0-baa2-ba29c10438c7",
   "metadata": {},
   "outputs": [
    {
     "data": {
      "text/plain": [
       "array([10,  8, 12])"
      ]
     },
     "execution_count": 173,
     "metadata": {},
     "output_type": "execute_result"
    }
   ],
   "source": [
    "# Create prices array\n",
    "prices = np.array([10, 8, 12])\n",
    "prices"
   ]
  },
  {
   "cell_type": "code",
   "execution_count": 175,
   "id": "076e11e9-82af-4a86-8b2f-82cbe9d92f66",
   "metadata": {},
   "outputs": [
    {
     "data": {
      "text/html": [
       "<div>\n",
       "<style scoped>\n",
       "    .dataframe tbody tr th:only-of-type {\n",
       "        vertical-align: middle;\n",
       "    }\n",
       "\n",
       "    .dataframe tbody tr th {\n",
       "        vertical-align: top;\n",
       "    }\n",
       "\n",
       "    .dataframe thead th {\n",
       "        text-align: right;\n",
       "    }\n",
       "</style>\n",
       "<table border=\"1\" class=\"dataframe\">\n",
       "  <thead>\n",
       "    <tr style=\"text-align: right;\">\n",
       "      <th></th>\n",
       "      <th>Almond butter</th>\n",
       "      <th>Peanut butter</th>\n",
       "      <th>Cashew butter</th>\n",
       "    </tr>\n",
       "  </thead>\n",
       "  <tbody>\n",
       "    <tr>\n",
       "      <th>Price</th>\n",
       "      <td>10</td>\n",
       "      <td>8</td>\n",
       "      <td>12</td>\n",
       "    </tr>\n",
       "  </tbody>\n",
       "</table>\n",
       "</div>"
      ],
      "text/plain": [
       "       Almond butter  Peanut butter  Cashew butter\n",
       "Price             10              8             12"
      ]
     },
     "execution_count": 175,
     "metadata": {},
     "output_type": "execute_result"
    }
   ],
   "source": [
    "# Create butter_prices DataFrame\n",
    "butter_prices = pd.DataFrame(prices.reshape(1,3), index=[\"Price\"], columns=[\"Almond butter\", \"Peanut butter\", \"Cashew butter\"])\n",
    "butter_prices"
   ]
  },
  {
   "cell_type": "code",
   "execution_count": 180,
   "id": "c6291585-d5d8-4e5d-a576-b378741cfd20",
   "metadata": {},
   "outputs": [
    {
     "data": {
      "text/plain": [
       "array([240, 138, 458, 232, 142])"
      ]
     },
     "execution_count": 180,
     "metadata": {},
     "output_type": "execute_result"
    }
   ],
   "source": [
    "total_sales = prices.dot(sales_amount.T)\n",
    "total_sales"
   ]
  },
  {
   "cell_type": "code",
   "execution_count": 186,
   "id": "c3a8d2f0-ecc5-425f-a200-90ef847b37a9",
   "metadata": {},
   "outputs": [
    {
     "data": {
      "text/plain": [
       "((1, 3), (5, 3))"
      ]
     },
     "execution_count": 186,
     "metadata": {},
     "output_type": "execute_result"
    }
   ],
   "source": [
    "# Create daily_sales  \n",
    "butter_prices.shape, weekly_sales.shape\n"
   ]
  },
  {
   "cell_type": "code",
   "execution_count": 187,
   "id": "8a137d8f-cd68-4212-bf93-9158bd5f9693",
   "metadata": {},
   "outputs": [
    {
     "data": {
      "text/plain": [
       "(3, 5)"
      ]
     },
     "execution_count": 187,
     "metadata": {},
     "output_type": "execute_result"
    }
   ],
   "source": [
    "weekly_sales.T.shape"
   ]
  },
  {
   "cell_type": "code",
   "execution_count": 189,
   "id": "6b5c33fd-67f3-42a4-8e8e-39d55892a39a",
   "metadata": {},
   "outputs": [
    {
     "data": {
      "text/html": [
       "<div>\n",
       "<style scoped>\n",
       "    .dataframe tbody tr th:only-of-type {\n",
       "        vertical-align: middle;\n",
       "    }\n",
       "\n",
       "    .dataframe tbody tr th {\n",
       "        vertical-align: top;\n",
       "    }\n",
       "\n",
       "    .dataframe thead th {\n",
       "        text-align: right;\n",
       "    }\n",
       "</style>\n",
       "<table border=\"1\" class=\"dataframe\">\n",
       "  <thead>\n",
       "    <tr style=\"text-align: right;\">\n",
       "      <th></th>\n",
       "      <th>Mon</th>\n",
       "      <th>Tues</th>\n",
       "      <th>Wed</th>\n",
       "      <th>Thurs</th>\n",
       "      <th>Fri</th>\n",
       "    </tr>\n",
       "  </thead>\n",
       "  <tbody>\n",
       "    <tr>\n",
       "      <th>Price</th>\n",
       "      <td>240</td>\n",
       "      <td>138</td>\n",
       "      <td>458</td>\n",
       "      <td>232</td>\n",
       "      <td>142</td>\n",
       "    </tr>\n",
       "  </tbody>\n",
       "</table>\n",
       "</div>"
      ],
      "text/plain": [
       "       Mon  Tues  Wed  Thurs  Fri\n",
       "Price  240   138  458    232  142"
      ]
     },
     "execution_count": 189,
     "metadata": {},
     "output_type": "execute_result"
    }
   ],
   "source": [
    "daily_sales = butter_prices.dot(weekly_sales.T)\n",
    "daily_sales"
   ]
  },
  {
   "cell_type": "code",
   "execution_count": 190,
   "id": "f2ef8dae-17b8-4256-b196-99c2f66e190b",
   "metadata": {},
   "outputs": [
    {
     "data": {
      "text/html": [
       "<div>\n",
       "<style scoped>\n",
       "    .dataframe tbody tr th:only-of-type {\n",
       "        vertical-align: middle;\n",
       "    }\n",
       "\n",
       "    .dataframe tbody tr th {\n",
       "        vertical-align: top;\n",
       "    }\n",
       "\n",
       "    .dataframe thead th {\n",
       "        text-align: right;\n",
       "    }\n",
       "</style>\n",
       "<table border=\"1\" class=\"dataframe\">\n",
       "  <thead>\n",
       "    <tr style=\"text-align: right;\">\n",
       "      <th></th>\n",
       "      <th>Almond butter</th>\n",
       "      <th>Peanut butter</th>\n",
       "      <th>Cashew butter</th>\n",
       "      <th>Total ($)</th>\n",
       "    </tr>\n",
       "  </thead>\n",
       "  <tbody>\n",
       "    <tr>\n",
       "      <th>Mon</th>\n",
       "      <td>12</td>\n",
       "      <td>15</td>\n",
       "      <td>0</td>\n",
       "      <td>240</td>\n",
       "    </tr>\n",
       "    <tr>\n",
       "      <th>Tues</th>\n",
       "      <td>3</td>\n",
       "      <td>3</td>\n",
       "      <td>7</td>\n",
       "      <td>138</td>\n",
       "    </tr>\n",
       "    <tr>\n",
       "      <th>Wed</th>\n",
       "      <td>9</td>\n",
       "      <td>19</td>\n",
       "      <td>18</td>\n",
       "      <td>458</td>\n",
       "    </tr>\n",
       "    <tr>\n",
       "      <th>Thurs</th>\n",
       "      <td>4</td>\n",
       "      <td>6</td>\n",
       "      <td>12</td>\n",
       "      <td>232</td>\n",
       "    </tr>\n",
       "    <tr>\n",
       "      <th>Fri</th>\n",
       "      <td>1</td>\n",
       "      <td>6</td>\n",
       "      <td>7</td>\n",
       "      <td>142</td>\n",
       "    </tr>\n",
       "  </tbody>\n",
       "</table>\n",
       "</div>"
      ],
      "text/plain": [
       "       Almond butter  Peanut butter  Cashew butter  Total ($)\n",
       "Mon               12             15              0        240\n",
       "Tues               3              3              7        138\n",
       "Wed                9             19             18        458\n",
       "Thurs              4              6             12        232\n",
       "Fri                1              6              7        142"
      ]
     },
     "execution_count": 190,
     "metadata": {},
     "output_type": "execute_result"
    }
   ],
   "source": [
    "weekly_sales[\"Total ($)\"] = daily_sales.T\n",
    "weekly_sales"
   ]
  },
  {
   "cell_type": "code",
   "execution_count": 191,
   "id": "9873ee71-5428-42cf-a91d-0f3ffceb553f",
   "metadata": {},
   "outputs": [
    {
     "data": {
      "text/plain": [
       "array([[False, False, False],\n",
       "       [False, False, False]])"
      ]
     },
     "execution_count": 191,
     "metadata": {},
     "output_type": "execute_result"
    }
   ],
   "source": [
    "a1 > a2 "
   ]
  },
  {
   "cell_type": "code",
   "execution_count": 192,
   "id": "624bc89e-6022-4698-ba51-88539d496c8a",
   "metadata": {},
   "outputs": [
    {
     "data": {
      "text/plain": [
       "array([[ True,  True,  True],\n",
       "       [False, False, False]])"
      ]
     },
     "execution_count": 192,
     "metadata": {},
     "output_type": "execute_result"
    }
   ],
   "source": [
    "a1 == a2\n"
   ]
  },
  {
   "cell_type": "code",
   "execution_count": 194,
   "id": "b94eb054-9567-4d0b-9341-1553c15cd174",
   "metadata": {},
   "outputs": [
    {
     "data": {
      "text/plain": [
       "array([[8, 1, 3, 3, 3],\n",
       "       [7, 0, 1, 9, 9],\n",
       "       [0, 4, 7, 3, 2]])"
      ]
     },
     "execution_count": 194,
     "metadata": {},
     "output_type": "execute_result"
    }
   ],
   "source": [
    "random_array = np.random.randint(10, size=(3,5))\n",
    "random_array\n"
   ]
  },
  {
   "cell_type": "code",
   "execution_count": 195,
   "id": "7a7237f6-4af1-4319-a6d1-e3e3b0d13ca5",
   "metadata": {},
   "outputs": [
    {
     "data": {
      "text/plain": [
       "(3, 5)"
      ]
     },
     "execution_count": 195,
     "metadata": {},
     "output_type": "execute_result"
    }
   ],
   "source": [
    "random_array.shape"
   ]
  },
  {
   "cell_type": "code",
   "execution_count": 196,
   "id": "480b7700-e7ee-4020-84c6-5e5e6f68bb7d",
   "metadata": {},
   "outputs": [
    {
     "data": {
      "text/plain": [
       "array([[1, 3, 3, 3, 8],\n",
       "       [0, 1, 7, 9, 9],\n",
       "       [0, 2, 3, 4, 7]])"
      ]
     },
     "execution_count": 196,
     "metadata": {},
     "output_type": "execute_result"
    }
   ],
   "source": [
    "np.sort(random_array)"
   ]
  },
  {
   "cell_type": "code",
   "execution_count": 198,
   "id": "6830c778-415f-49fe-9607-89b082e2774c",
   "metadata": {},
   "outputs": [
    {
     "data": {
      "text/plain": [
       "array([[1, 2, 3, 4, 0],\n",
       "       [1, 2, 0, 3, 4],\n",
       "       [0, 4, 3, 1, 2]], dtype=int64)"
      ]
     },
     "execution_count": 198,
     "metadata": {},
     "output_type": "execute_result"
    }
   ],
   "source": [
    "np.argsort(random_array)"
   ]
  },
  {
   "cell_type": "code",
   "execution_count": 199,
   "id": "989193b5-69c1-4154-9416-363c300797d8",
   "metadata": {},
   "outputs": [
    {
     "data": {
      "text/plain": [
       "array([0, 1, 2], dtype=int64)"
      ]
     },
     "execution_count": 199,
     "metadata": {},
     "output_type": "execute_result"
    }
   ],
   "source": [
    "np.argsort(a1)"
   ]
  },
  {
   "cell_type": "code",
   "execution_count": 200,
   "id": "991c7d79-f76c-42ac-9118-e025d1632a78",
   "metadata": {},
   "outputs": [
    {
     "data": {
      "text/plain": [
       "0"
      ]
     },
     "execution_count": 200,
     "metadata": {},
     "output_type": "execute_result"
    }
   ],
   "source": [
    "np.argmin(a1)"
   ]
  },
  {
   "cell_type": "code",
   "execution_count": 201,
   "id": "a8495080-adea-40d6-95a2-6f82ebe2d0c1",
   "metadata": {},
   "outputs": [
    {
     "data": {
      "text/plain": [
       "2"
      ]
     },
     "execution_count": 201,
     "metadata": {},
     "output_type": "execute_result"
    }
   ],
   "source": [
    "np.argmax(a1)\n"
   ]
  },
  {
   "cell_type": "code",
   "execution_count": 204,
   "id": "0ac2d747-1c51-4a40-abdb-24815671e015",
   "metadata": {},
   "outputs": [
    {
     "data": {
      "text/plain": [
       "(array([0, 3, 2], dtype=int64), array([0, 2, 2, 1, 1], dtype=int64))"
      ]
     },
     "execution_count": 204,
     "metadata": {},
     "output_type": "execute_result"
    }
   ],
   "source": [
    "np.argmax(random_array, axis=1), np.argmax(random_array, axis=0)"
   ]
  },
  {
   "cell_type": "code",
   "execution_count": 283,
   "id": "282b0fca-367a-491b-99b8-31f29f96bc93",
   "metadata": {},
   "outputs": [
    {
     "name": "stdout",
     "output_type": "stream",
     "text": [
      "<class 'numpy.ndarray'>\n"
     ]
    },
    {
     "data": {
      "text/plain": [
       "((2330, 3500, 3), 24465000, 3)"
      ]
     },
     "execution_count": 283,
     "metadata": {},
     "output_type": "execute_result"
    }
   ],
   "source": [
    "# Turn an image into a NumPy array\n",
    "from matplotlib.image import imread\n",
    "panda = imread(\"images/panda.png\")\n",
    "print(type(panda))\n",
    "\n",
    "panda.shape, panda.size, panda.ndim"
   ]
  },
  {
   "cell_type": "code",
   "execution_count": 282,
   "id": "888db82f-f86b-4993-b26a-838fcb7c99f0",
   "metadata": {},
   "outputs": [
    {
     "data": {
      "text/plain": [
       "array([[[0.5019608 , 0.50980395, 0.4862745 , 1.        ],\n",
       "        [0.3372549 , 0.34509805, 0.30588236, 1.        ],\n",
       "        [0.20392157, 0.21568628, 0.14901961, 1.        ],\n",
       "        ...,\n",
       "        [0.64705884, 0.7058824 , 0.54901963, 1.        ],\n",
       "        [0.59607846, 0.63529414, 0.45882353, 1.        ],\n",
       "        [0.44705883, 0.47058824, 0.3372549 , 1.        ]],\n",
       "\n",
       "       [[0.44313726, 0.43529412, 0.40392157, 1.        ],\n",
       "        [0.3137255 , 0.31764707, 0.27450982, 1.        ],\n",
       "        [0.2       , 0.21176471, 0.14117648, 1.        ],\n",
       "        ...,\n",
       "        [0.5058824 , 0.5372549 , 0.4117647 , 1.        ],\n",
       "        [0.49803922, 0.52156866, 0.39607844, 1.        ],\n",
       "        [0.4       , 0.42745098, 0.34117648, 1.        ]],\n",
       "\n",
       "       [[0.39607844, 0.38039216, 0.34117648, 1.        ],\n",
       "        [0.31764707, 0.3137255 , 0.27450982, 1.        ],\n",
       "        [0.28627452, 0.29411766, 0.24705882, 1.        ],\n",
       "        ...,\n",
       "        [0.44705883, 0.45882353, 0.32156864, 1.        ],\n",
       "        [0.45882353, 0.48235294, 0.3529412 , 1.        ],\n",
       "        [0.4509804 , 0.49019608, 0.38039216, 1.        ]],\n",
       "\n",
       "       ...,\n",
       "\n",
       "       [[0.47058824, 0.57254905, 0.6313726 , 1.        ],\n",
       "        [0.4392157 , 0.53333336, 0.5882353 , 1.        ],\n",
       "        [0.48235294, 0.5803922 , 0.6392157 , 1.        ],\n",
       "        ...,\n",
       "        [0.6156863 , 0.7529412 , 0.827451  , 1.        ],\n",
       "        [0.61960787, 0.7607843 , 0.83137256, 1.        ],\n",
       "        [0.5921569 , 0.73333335, 0.7921569 , 1.        ]],\n",
       "\n",
       "       [[0.4745098 , 0.5803922 , 0.6392157 , 1.        ],\n",
       "        [0.47058824, 0.58431375, 0.63529414, 1.        ],\n",
       "        [0.4117647 , 0.5019608 , 0.5529412 , 1.        ],\n",
       "        ...,\n",
       "        [0.54901963, 0.6784314 , 0.74509805, 1.        ],\n",
       "        [0.65882355, 0.8117647 , 0.8862745 , 1.        ],\n",
       "        [0.60784316, 0.74509805, 0.8117647 , 1.        ]],\n",
       "\n",
       "       [[0.4745098 , 0.57254905, 0.627451  , 1.        ],\n",
       "        [0.49411765, 0.6       , 0.65882355, 1.        ],\n",
       "        [0.49019608, 0.5921569 , 0.64705884, 1.        ],\n",
       "        ...,\n",
       "        [0.5294118 , 0.63529414, 0.69803923, 1.        ],\n",
       "        [0.5529412 , 0.67058825, 0.7372549 , 1.        ],\n",
       "        [0.6156863 , 0.73333335, 0.8       , 1.        ]]], dtype=float32)"
      ]
     },
     "execution_count": 282,
     "metadata": {},
     "output_type": "execute_result"
    }
   ],
   "source": [
    "car = imread(\"images/car-photo.png\")\n",
    "car"
   ]
  },
  {
   "cell_type": "code",
   "execution_count": 285,
   "id": "e7c3cfe8-14cf-4a96-8c2a-0bc4c96e4b09",
   "metadata": {
    "scrolled": true
   },
   "outputs": [
    {
     "data": {
      "text/plain": [
       "array([[[0.70980394, 0.80784315, 0.88235295, 1.        ],\n",
       "        [0.72156864, 0.8117647 , 0.8862745 , 1.        ],\n",
       "        [0.7411765 , 0.8156863 , 0.8862745 , 1.        ],\n",
       "        ...,\n",
       "        [0.49803922, 0.6862745 , 0.8392157 , 1.        ],\n",
       "        [0.49411765, 0.68235296, 0.8392157 , 1.        ],\n",
       "        [0.49411765, 0.68235296, 0.8352941 , 1.        ]],\n",
       "\n",
       "       [[0.69411767, 0.8039216 , 0.8862745 , 1.        ],\n",
       "        [0.7019608 , 0.8039216 , 0.88235295, 1.        ],\n",
       "        [0.7058824 , 0.80784315, 0.88235295, 1.        ],\n",
       "        ...,\n",
       "        [0.5019608 , 0.6862745 , 0.84705883, 1.        ],\n",
       "        [0.49411765, 0.68235296, 0.84313726, 1.        ],\n",
       "        [0.49411765, 0.68235296, 0.8392157 , 1.        ]],\n",
       "\n",
       "       [[0.6901961 , 0.8       , 0.88235295, 1.        ],\n",
       "        [0.69803923, 0.8039216 , 0.88235295, 1.        ],\n",
       "        [0.7058824 , 0.80784315, 0.88235295, 1.        ],\n",
       "        ...,\n",
       "        [0.5019608 , 0.6862745 , 0.84705883, 1.        ],\n",
       "        [0.49803922, 0.6862745 , 0.84313726, 1.        ],\n",
       "        [0.49803922, 0.6862745 , 0.84313726, 1.        ]],\n",
       "\n",
       "       ...,\n",
       "\n",
       "       [[0.9098039 , 0.81960785, 0.654902  , 1.        ],\n",
       "        [0.8352941 , 0.7490196 , 0.6509804 , 1.        ],\n",
       "        [0.72156864, 0.6313726 , 0.5372549 , 1.        ],\n",
       "        ...,\n",
       "        [0.01568628, 0.07058824, 0.02352941, 1.        ],\n",
       "        [0.03921569, 0.09411765, 0.03529412, 1.        ],\n",
       "        [0.03921569, 0.09019608, 0.05490196, 1.        ]],\n",
       "\n",
       "       [[0.9137255 , 0.83137256, 0.6784314 , 1.        ],\n",
       "        [0.8117647 , 0.7294118 , 0.627451  , 1.        ],\n",
       "        [0.65882355, 0.5686275 , 0.47843137, 1.        ],\n",
       "        ...,\n",
       "        [0.00392157, 0.05490196, 0.03529412, 1.        ],\n",
       "        [0.03137255, 0.09019608, 0.05490196, 1.        ],\n",
       "        [0.04705882, 0.10588235, 0.06666667, 1.        ]],\n",
       "\n",
       "       [[0.9137255 , 0.83137256, 0.68235296, 1.        ],\n",
       "        [0.76862746, 0.68235296, 0.5882353 , 1.        ],\n",
       "        [0.59607846, 0.5058824 , 0.44313726, 1.        ],\n",
       "        ...,\n",
       "        [0.03921569, 0.10196079, 0.07058824, 1.        ],\n",
       "        [0.02745098, 0.08235294, 0.05882353, 1.        ],\n",
       "        [0.05098039, 0.11372549, 0.07058824, 1.        ]]], dtype=float32)"
      ]
     },
     "execution_count": 285,
     "metadata": {},
     "output_type": "execute_result"
    }
   ],
   "source": [
    "dog = imread(\"images/dog-photo.png\")\n",
    "dog"
   ]
  },
  {
   "cell_type": "code",
   "execution_count": null,
   "id": "5a7d4e7e-cc1f-494f-816f-17927475f318",
   "metadata": {},
   "outputs": [],
   "source": []
  }
 ],
 "metadata": {
  "kernelspec": {
   "display_name": "Python 3 (ipykernel)",
   "language": "python",
   "name": "python3"
  },
  "language_info": {
   "codemirror_mode": {
    "name": "ipython",
    "version": 3
   },
   "file_extension": ".py",
   "mimetype": "text/x-python",
   "name": "python",
   "nbconvert_exporter": "python",
   "pygments_lexer": "ipython3",
   "version": "3.12.7"
  }
 },
 "nbformat": 4,
 "nbformat_minor": 5
}
